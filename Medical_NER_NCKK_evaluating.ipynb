{
  "nbformat": 4,
  "nbformat_minor": 0,
  "metadata": {
    "colab": {
      "provenance": [],
      "include_colab_link": true
    },
    "kernelspec": {
      "name": "python3",
      "display_name": "Python 3"
    },
    "language_info": {
      "name": "python"
    },
    "gpuClass": "standard",
    "accelerator": "GPU"
  },
  "cells": [
    {
      "cell_type": "markdown",
      "metadata": {
        "id": "view-in-github",
        "colab_type": "text"
      },
      "source": [
        "<a href=\"https://colab.research.google.com/github/NChanko/medical_ner/blob/main/Medical_NER_NCKK_evaluating.ipynb\" target=\"_parent\"><img src=\"https://colab.research.google.com/assets/colab-badge.svg\" alt=\"Open In Colab\"/></a>"
      ]
    },
    {
      "cell_type": "code",
      "source": [
        "pip install spacy[transformers]"
      ],
      "metadata": {
        "id": "K7OtcWPvO_eI"
      },
      "execution_count": null,
      "outputs": []
    },
    {
      "cell_type": "markdown",
      "source": [
        "#OLD TEST"
      ],
      "metadata": {
        "id": "zWxIX49fwrOW"
      }
    },
    {
      "cell_type": "code",
      "source": [
        "#REF https://newscatcherapi.com/blog/train-custom-named-entity-recognition-ner-model-with-spacy-v3\n",
        "\n",
        "#https://ner.pythonhumanities.com/03_02_train_spacy_ner_model.html"
      ],
      "metadata": {
        "id": "Z_gxh2iDvlCV"
      },
      "execution_count": null,
      "outputs": []
    },
    {
      "cell_type": "code",
      "source": [
        "import json\n",
        "\n",
        "with open('data.json', 'r') as f:\n",
        "    data = json.load(f)\n",
        "\n",
        "print(data['examples'][0])"
      ],
      "metadata": {
        "id": "LYLZ986ZPCcN"
      },
      "execution_count": null,
      "outputs": []
    },
    {
      "cell_type": "code",
      "source": [
        "training_data = {'classes' : ['MEDICINE', \"MEDICALCONDITION\", \"PATHOGEN\"], 'annotations' : []}\n",
        "for example in data['examples']:\n",
        "  temp_dict = {}\n",
        "  temp_dict['text'] = example['content']\n",
        "  temp_dict['entities'] = []\n",
        "  for annotation in example['annotations']:\n",
        "    start = annotation['start']\n",
        "    end = annotation['end']\n",
        "    label = annotation['tag_name'].upper()\n",
        "    temp_dict['entities'].append((start, end, label))\n",
        "  training_data['annotations'].append(temp_dict)\n",
        "\n",
        "print(training_data['annotations'][0])"
      ],
      "metadata": {
        "colab": {
          "base_uri": "https://localhost:8080/"
        },
        "id": "5jZCibZAPJ6m",
        "outputId": "4125f85c-165d-4778-a2b6-0268832c029b"
      },
      "execution_count": null,
      "outputs": [
        {
          "output_type": "stream",
          "name": "stdout",
          "text": [
            "{'text': \"While bismuth compounds (Pepto-Bismol) decreased the number of bowel movements in those with travelers' diarrhea, they do not decrease the length of illness.[91] Anti-motility agents like loperamide are also effective at reducing the number of stools but not the duration of disease.[8] These agents should be used only if bloody diarrhea is not present.[92]\\n\\nDiosmectite, a natural aluminomagnesium silicate clay, is effective in alleviating symptoms of acute diarrhea in children,[93] and also has some effects in chronic functional diarrhea, radiation-induced diarrhea, and chemotherapy-induced diarrhea.[45] Another absorbent agent used for the treatment of mild diarrhea is kaopectate.\\n\\nRacecadotril an antisecretory medication may be used to treat diarrhea in children and adults.[86] It has better tolerability than loperamide, as it causes less constipation and flatulence.[94]\", 'entities': [(360, 371, 'MEDICINE'), (383, 408, 'MEDICINE'), (104, 112, 'MEDICALCONDITION'), (679, 689, 'MEDICINE'), (6, 23, 'MEDICINE'), (25, 37, 'MEDICINE'), (461, 470, 'MEDICALCONDITION'), (577, 589, 'MEDICINE'), (853, 865, 'MEDICALCONDITION'), (188, 198, 'MEDICINE'), (754, 762, 'MEDICALCONDITION'), (870, 880, 'MEDICALCONDITION'), (823, 833, 'MEDICINE'), (852, 853, 'MEDICALCONDITION'), (461, 469, 'MEDICALCONDITION'), (535, 543, 'MEDICALCONDITION'), (692, 704, 'MEDICINE'), (563, 571, 'MEDICALCONDITION')]}\n"
          ]
        }
      ]
    },
    {
      "cell_type": "code",
      "source": [
        "df = pd.read_csv(\"trained_data.csv\")\n",
        "new_df=df['train_set']\n",
        "new_df"
      ],
      "metadata": {
        "colab": {
          "base_uri": "https://localhost:8080/"
        },
        "id": "8boOE3eTvVr-",
        "outputId": "c41e55d5-886a-4c68-c303-9b974c66977a"
      },
      "execution_count": null,
      "outputs": [
        {
          "output_type": "execute_result",
          "data": {
            "text/plain": [
              "0       {'text': 'SUBJECTIVE:,  This 23-year-old white...\n",
              "1       {'text': 'PAST MEDICAL HISTORY:, He has diffic...\n",
              "2       {'text': 'HISTORY OF PRESENT ILLNESS: , I have...\n",
              "3       {'text': '2-D M-MODE: , ,1.  Left atrial enlar...\n",
              "4       {'text': '1.  The left ventricular cavity size...\n",
              "                              ...                        \n",
              "4994    {'text': \"HISTORY:,  I had the pleasure of mee...\n",
              "4995    {'text': 'ADMITTING DIAGNOSIS: , Kawasaki dise...\n",
              "4996    {'text': 'SUBJECTIVE: , This is a 42-year-old ...\n",
              "4997    {'text': 'CHIEF COMPLAINT: , This 5-year-old m...\n",
              "4998    {'text': 'HISTORY: , A 34-year-old male presen...\n",
              "Name: train_set, Length: 4999, dtype: object"
            ]
          },
          "metadata": {},
          "execution_count": 18
        }
      ]
    },
    {
      "cell_type": "code",
      "source": [
        "import spacy\n",
        "import pandas as pd\n",
        "from spacy.tokens import DocBin\n",
        "from tqdm import tqdm\n",
        "\n",
        "nlp = spacy.blank(\"en\") # load a new spacy model\n",
        "doc_bin = DocBin() # create a DocBin object"
      ],
      "metadata": {
        "id": "HvWvSDLEPdXr"
      },
      "execution_count": null,
      "outputs": []
    },
    {
      "cell_type": "code",
      "source": [
        "from spacy.util import filter_spans\n",
        "\n",
        "#for training_example  in tqdm(training_data['annotations']):\n",
        "for training_example  in tqdm(new_df):\n",
        "\n",
        "    text = training_example['text']\n",
        "    labels = training_example['entities']\n",
        "    doc = nlp.make_doc(text)\n",
        "    ents = []\n",
        "    for start, end, label in labels:\n",
        "        span = doc.char_span(start, end, label=label, alignment_mode=\"contract\")\n",
        "        if span is None:\n",
        "            print(\"Skipping entity\")\n",
        "        else:\n",
        "            ents.append(span)\n",
        "    filtered_ents = filter_spans(ents)\n",
        "    doc.ents = filtered_ents\n",
        "    doc_bin.add(doc)\n",
        "\n",
        "doc_bin.to_disk(\"training_data.spacy\") # save the docbin object"
      ],
      "metadata": {
        "id": "vIW_UnKoPuOl"
      },
      "execution_count": null,
      "outputs": []
    },
    {
      "cell_type": "code",
      "source": [
        "!python -m spacy init fill-config \"/content/base_config.cfg\" config.cfg"
      ],
      "metadata": {
        "colab": {
          "base_uri": "https://localhost:8080/"
        },
        "id": "pBe_Q6L_RThN",
        "outputId": "75e4d8c3-5323-4cad-cb94-96ce1be64706"
      },
      "execution_count": null,
      "outputs": [
        {
          "output_type": "stream",
          "name": "stdout",
          "text": [
            "\u001b[38;5;2m✔ Auto-filled config with all values\u001b[0m\n",
            "\u001b[38;5;2m✔ Saved config\u001b[0m\n",
            "config.cfg\n",
            "You can now add your data and train your pipeline:\n",
            "python -m spacy train config.cfg --paths.train ./train.spacy --paths.dev ./dev.spacy\n"
          ]
        }
      ]
    },
    {
      "cell_type": "code",
      "source": [
        "!python -m spacy train config.cfg --output ./ --paths.train ./training_data.spacy --paths.dev ./training_data.spacy --gpu-id 0\n"
      ],
      "metadata": {
        "colab": {
          "base_uri": "https://localhost:8080/"
        },
        "id": "LEjsUNbVR6si",
        "outputId": "8c5d281f-4a52-436c-e952-282ef4a779b9"
      },
      "execution_count": null,
      "outputs": [
        {
          "output_type": "stream",
          "name": "stdout",
          "text": [
            "\u001b[38;5;4mℹ Saving to output directory: .\u001b[0m\n",
            "\u001b[38;5;4mℹ Using GPU: 0\u001b[0m\n",
            "\u001b[1m\n",
            "=========================== Initializing pipeline ===========================\u001b[0m\n",
            "[2022-12-18 22:18:21,331] [INFO] Set up nlp object from config\n",
            "INFO:spacy:Set up nlp object from config\n",
            "[2022-12-18 22:18:21,342] [INFO] Pipeline: ['transformer', 'ner']\n",
            "INFO:spacy:Pipeline: ['transformer', 'ner']\n",
            "[2022-12-18 22:18:21,345] [INFO] Created vocabulary\n",
            "INFO:spacy:Created vocabulary\n",
            "[2022-12-18 22:18:21,346] [INFO] Finished initializing nlp object\n",
            "INFO:spacy:Finished initializing nlp object\n",
            "Some weights of the model checkpoint at roberta-base were not used when initializing RobertaModel: ['lm_head.bias', 'lm_head.layer_norm.bias', 'lm_head.dense.weight', 'lm_head.dense.bias', 'lm_head.decoder.weight', 'lm_head.layer_norm.weight']\n",
            "- This IS expected if you are initializing RobertaModel from the checkpoint of a model trained on another task or with another architecture (e.g. initializing a BertForSequenceClassification model from a BertForPreTraining model).\n",
            "- This IS NOT expected if you are initializing RobertaModel from the checkpoint of a model that you expect to be exactly identical (initializing a BertForSequenceClassification model from a BertForSequenceClassification model).\n",
            "[2022-12-18 22:18:47,431] [INFO] Initialized pipeline components: ['transformer', 'ner']\n",
            "INFO:spacy:Initialized pipeline components: ['transformer', 'ner']\n",
            "\u001b[38;5;2m✔ Initialized pipeline\u001b[0m\n",
            "\u001b[1m\n",
            "============================= Training pipeline =============================\u001b[0m\n",
            "\u001b[38;5;4mℹ Pipeline: ['transformer', 'ner']\u001b[0m\n",
            "\u001b[38;5;4mℹ Initial learn rate: 0.0\u001b[0m\n",
            "E    #       LOSS TRANS...  LOSS NER  ENTS_F  ENTS_P  ENTS_R  SCORE \n",
            "---  ------  -------------  --------  ------  ------  ------  ------\n",
            "  0       0        3400.21    594.81    0.00    0.00    0.00    0.00\n",
            " 66     200       84503.94  32321.22   99.22   98.83   99.61    0.99\n",
            "133     400         959.26   1140.43  100.00  100.00  100.00    1.00\n",
            "200     600          26.19    884.79  100.00  100.00  100.00    1.00\n",
            "266     800          36.43    839.64  100.00  100.00  100.00    1.00\n",
            "333    1000          17.57    803.38  100.00  100.00  100.00    1.00\n",
            "400    1200          12.34    750.11  100.00  100.00  100.00    1.00\n",
            "466    1400           4.99    697.28  100.00  100.00  100.00    1.00\n",
            "533    1600           4.07    663.54  100.00  100.00  100.00    1.00\n",
            "600    1800          33.40    648.81  100.00  100.00  100.00    1.00\n",
            "666    2000          41.44    616.02  100.00  100.00  100.00    1.00\n",
            "\u001b[38;5;2m✔ Saved pipeline to output directory\u001b[0m\n",
            "model-last\n"
          ]
        }
      ]
    },
    {
      "cell_type": "code",
      "source": [
        "#To move the folder from Google Colab to Google Drive. Try this tip.\n",
        "# First zip the folder with foloowing code.\n",
        "!zip -r /content/model-best.zip /content/model-best\n",
        "from google.colab import files\n",
        "files.download(\"model-best.zip\")\n",
        "\n",
        "#The next step is to set the colab link and Gdrive link to copy and paste. Don't forget to enable Gdrie."
      ],
      "metadata": {
        "id": "kz3i58AfgEEn"
      },
      "execution_count": null,
      "outputs": []
    },
    {
      "cell_type": "code",
      "source": [
        "import shutil\n",
        "colab_link = \"/content/model-best.zip\"\n",
        "gdrive_link = \"/content/drive/MyDrive/Colab Notebooks/Models\"\n",
        "shutil.copy(colab_link, gdrive_link)"
      ],
      "metadata": {
        "colab": {
          "base_uri": "https://localhost:8080/",
          "height": 37
        },
        "id": "mhPq6dd9ibJC",
        "outputId": "20d120ee-fe73-4f7e-8b47-730dc6684f51"
      },
      "execution_count": null,
      "outputs": [
        {
          "output_type": "execute_result",
          "data": {
            "text/plain": [
              "'/content/drive/MyDrive/Colab Notebooks/Models/model-best.zip'"
            ],
            "application/vnd.google.colaboratory.intrinsic+json": {
              "type": "string"
            }
          },
          "metadata": {},
          "execution_count": 36
        }
      ]
    },
    {
      "cell_type": "markdown",
      "source": [
        "#Testing with custom model"
      ],
      "metadata": {
        "id": "FrAKyovMqUaD"
      }
    },
    {
      "cell_type": "code",
      "source": [
        "import pandas as pd\n",
        "import spacy\n",
        "doc= pd.read_csv(\"/content/drive/MyDrive/Colab Notebooks/NLP NER Project/mtsamples.csv\")\n",
        "\n",
        "doc_df = pd.DataFrame(doc)\n"
      ],
      "metadata": {
        "id": "cRa1gCnCUF4k"
      },
      "execution_count": null,
      "outputs": []
    },
    {
      "cell_type": "code",
      "source": [
        "note =\"\"\"HPI: -- is a 76 yo man with h/o HTN, DM, and sleep apnea who presented to the ED\n",
        "complaining of chest pain. He states that the pain began the day before and consisted of a\n",
        "sharp pain that lasted around 30 seconds, followed by a dull pain that would last around 2\n",
        "minutes. The pain was located over his left chest area somewhat near his shoulder. The\n",
        "onset of pain came while the patient was walking in his home. He did not sit and rest\n",
        "during the pain, but continued to do household chores. Later on in the afternoon he went\n",
        "to the gym where he walked 1 mile on the treadmill, rode the bike for 5 minutes, and\n",
        "swam in the pool. After returning from the gym he did some work out in the yard,\n",
        "cutting back some vines. He did not have any reoccurrences of chest pain while at the\n",
        "gym or later in the evening. The following morning (of his presentation to the ED) he\n",
        "noticed the pain as he was getting out of bed. Once again it was a dull pain, preceded by\n",
        "a short interval of a sharp pain. The patient did experience some tingling in his right arm\n",
        "after the pain ceased. He continued to have several episodes of the pain throughout the\n",
        "morning, so his daughter-in-law decided to take him to the ED around 12:30pm. The\n",
        "painful episodes did not increase in intensity or severity during this time. At the ED the\n",
        "patient was given nitroglycerin, which he claims helped alleviate the pain somewhat. --\n",
        "has not experienced any shortness of breath, nausea, or diaphoresis during these episodes\n",
        "of pain. He has never had chest pain in the past. He has been told “years ago” that he\n",
        "has a right bundle branch block and premature heart beats. \"\"\""
      ],
      "metadata": {
        "id": "ExeZcrBgxsrN"
      },
      "execution_count": null,
      "outputs": []
    },
    {
      "cell_type": "code",
      "source": [
        "cmed_ner_nckk = spacy.load(\"/content/drive/MyDrive/Colab Notebooks/NLP NER Project/Models/cmed_ner_nckk/model_best\")\n",
        "cmed_ner_nckk.component_names\n",
        "cmed_ner_nckk.get_pipe('ner').labels"
      ],
      "metadata": {
        "colab": {
          "base_uri": "https://localhost:8080/"
        },
        "id": "uEgGZTUlRhcf",
        "outputId": "a13f8d6a-a72b-4e94-f673-d33309e457ef"
      },
      "execution_count": null,
      "outputs": [
        {
          "output_type": "execute_result",
          "data": {
            "text/plain": [
              "('DISEASE', 'DRUG', 'LAB', 'SYMPTOM')"
            ]
          },
          "metadata": {},
          "execution_count": 7
        }
      ]
    },
    {
      "cell_type": "code",
      "source": [
        "def is_negated(entity, text):\n",
        "    # Define a list of negation keywords\n",
        "    negation_keywords = ['no', 'without', 'denies', 'negative', 'not present']\n",
        "\n",
        "    # Check if any of the negation keywords appear in the context around the entity\n",
        "    for keyword in negation_keywords:\n",
        "        if keyword in text[max(0, entity.start_char-20):entity.start_char]:\n",
        "            return True\n",
        "    return False"
      ],
      "metadata": {
        "id": "kPV_yg97U5aa"
      },
      "execution_count": null,
      "outputs": []
    },
    {
      "cell_type": "code",
      "source": [],
      "metadata": {
        "id": "MYd3t5eaXVRj"
      },
      "execution_count": null,
      "outputs": []
    },
    {
      "cell_type": "code",
      "source": [
        "#doc = nlp_ner(\"PREOPERATIVE DIAGNOSIS:  ,Urinary hesitancy and weak stream.,POSTOPERATIVE DIAGNOSES:,1.  Urinary hesitancy and weak stream.,2.  Urethral narrowing.,3.  Mild posterior wall erythema.,PROCEDURE PERFORMED:,1.  Cystourethroscopy.,2.  Urethral dilation.,3.  Bladder biopsy and fulguration.,ANESTHESIA:  ,General.,SPECIMEN:  ,Urine culture sensitivity and cytology and bladder biopsy x1.,DISPOSITION: , To PACU in stable condition.,INDICATIONS AND FINDINGS:  ,This is a 76-year-old female with history of weak stream and history of intermittent catheterization secondary to hypotonic bladder in the past, last cystoscopy approximately two years ago.,FINDINGS AT TIME OF SURGERY:,  Cystourethroscopy revealed some mild narrowing of the urethra, which was easily dilated to #23 French.  A midureteral polyp was noted.  Cystoscopy revealed multiple cellules and mild trabeculation of the bladder.  Posterior wall revealed some mild erythema with some distorted architecture of the bladder mucosa.  No obvious raised bladder tumor was noted.  No foreign bodies were noted.  The ureteral orifices were noted on the trigone just proximal to the bladder neck.,DESCRIPTION OF PROCEDURE: , After informed consent was obtained, the patient was moved to the operating room, general anesthesia was induced by the Department of Anesthesia.  The patient was prepped and draped in normal sterile fashion and urethral sounds used to dilate the urethra to accommodate #23 French cystoscope.  Cystoscopy was performed in its entirety with the above findings.  The small area of erythema on the posterior wall was biopsied using a flexible biopsy forceps and Bovie cautery was used to cauterize and fulgurate this area.  The bladder was drained, cystoscope was removed, scope was reinserted and bladder was again reexamined.  No evidence of active bleeding noted.  The bladder was drained, cystoscope was removed, and the patient was cleaned and sent to recovery room in stable condition to followup with Dr. X in two weeks.  She is given prescription for Levaquin and Pyridium and given discharge instructions.\")\n",
        "note = str(doc_df.iloc[3810]['transcription'])\n",
        "custom_doc = cmed_ner_nckk(note)\n",
        "colors = {\"SYMPTOM\": \"#938CE3\", \"DRUG\": \"#7DF6D9\", \"DISEASE\":\"#E39B8C\"}\n",
        "options = {\"colors\": colors}\n",
        "\n",
        "spacy.displacy.render(custom_doc, style=\"ent\", options= options, jupyter=True)"
      ],
      "metadata": {
        "id": "vdxbFPfMSLmC",
        "colab": {
          "base_uri": "https://localhost:8080/",
          "height": 1000
        },
        "outputId": "fc58ce8e-60ac-41c1-c21a-49b49eacd48e"
      },
      "execution_count": null,
      "outputs": [
        {
          "output_type": "display_data",
          "data": {
            "text/plain": [
              "<IPython.core.display.HTML object>"
            ],
            "text/html": [
              "<span class=\"tex2jax_ignore\"><div class=\"entities\" style=\"line-height: 2.5; direction: ltr\">HISTORY OF PRESENT ILLNESS:,  The patient is an 88-year-old white female, household ambulator with a walker, who presents to the emergency department this morning after incidental fall at home.  The patient states that she was on the ladder on Saturday and she stepped down after the ladder.  Felt some pain in her left hip.  Subsequently fell injuring her left shoulder.  It's unclear how long she was on the floor.  She was taken by EMS to Hospital where she was noted radiographically to have a left proximal humerus fracture and a nondisplaced left hip fracture.  Orthopedics was consulted.  Given the nature of the injury and the unclear events, an extensive workup was performed including a head CT and CT of the abdomen, which identified no evidence of intracranial injury and renal calculi only.  She presently is complaining of pain to the left shoulder.  She states she also has pain to the hip with motion of the leg.  She denies any \n",
              "<mark class=\"entity\" style=\"background: #938CE3; padding: 0.45em 0.6em; margin: 0 0.25em; line-height: 1; border-radius: 0.35em;\">\n",
              "    numbness\n",
              "    <span style=\"font-size: 0.8em; font-weight: bold; line-height: 1; border-radius: 0.35em; vertical-align: middle; margin-left: 0.5rem\">SYMPTOM</span>\n",
              "</mark>\n",
              " or paresthesias.  She states prior to this, she was relatively active within her home.  She does care for her daughter who has a mess.  The patient denies any other injuries.  Denies \n",
              "<mark class=\"entity\" style=\"background: #938CE3; padding: 0.45em 0.6em; margin: 0 0.25em; line-height: 1; border-radius: 0.35em;\">\n",
              "    back pain\n",
              "    <span style=\"font-size: 0.8em; font-weight: bold; line-height: 1; border-radius: 0.35em; vertical-align: middle; margin-left: 0.5rem\">SYMPTOM</span>\n",
              "</mark>\n",
              ".,PREVIOUS MEDICAL HISTORY:,  Extensive including coronary artery disease, peripheral vascular disease, status post MI, history of COPD, diverticular disease, irritable bowel syndrome, GERD, PMR, depressive disorder, and hypertension.,PREVIOUS SURGICAL HISTORY:,  Includes a repair of a right intertrochanteric femur fracture.,ALLERGIES,1.  PENICILLIN.,2.  SULFA.,3.  ACE INHIBITOR.,PRESENT MEDICATIONS,1.  Lipitor 20 mg q.d.,2.  Metoprolol 25 mg b.i.d.,3.  Plavix 75 mg once a day.,4.  Aspirin 325 mg.,5.  Combivent Aerosol two puffs twice a day.,6.  Protonix 40 mg q.d.,7.  Fosamax 70 mg weekly.,8.  Multivitamins including \n",
              "<mark class=\"entity\" style=\"background: #7DF6D9; padding: 0.45em 0.6em; margin: 0 0.25em; line-height: 1; border-radius: 0.35em;\">\n",
              "    calcium\n",
              "    <span style=\"font-size: 0.8em; font-weight: bold; line-height: 1; border-radius: 0.35em; vertical-align: middle; margin-left: 0.5rem\">DRUG</span>\n",
              "</mark>\n",
              " and vitamin D.,9.  Hydrocortisone.,10.  Nitroglycerin.,11.  Citalopram 20 mg q.d.,SOCIAL HISTORY:,  She denies alcohol or tobacco use.  She is the caretaker for her daughter, who is widowed and lives at home.,FAMILY HISTORY:,  Not obtainable.,REVIEW OF SYSTEMS: , Patient is hard of hearing.  She also has vision problems.  Denies \n",
              "<mark class=\"entity\" style=\"background: #938CE3; padding: 0.45em 0.6em; margin: 0 0.25em; line-height: 1; border-radius: 0.35em;\">\n",
              "    headache\n",
              "    <span style=\"font-size: 0.8em; font-weight: bold; line-height: 1; border-radius: 0.35em; vertical-align: middle; margin-left: 0.5rem\">SYMPTOM</span>\n",
              "</mark>\n",
              " syndrome.  Presently, denies \n",
              "<mark class=\"entity\" style=\"background: #938CE3; padding: 0.45em 0.6em; margin: 0 0.25em; line-height: 1; border-radius: 0.35em;\">\n",
              "    chest pain\n",
              "    <span style=\"font-size: 0.8em; font-weight: bold; line-height: 1; border-radius: 0.35em; vertical-align: middle; margin-left: 0.5rem\">SYMPTOM</span>\n",
              "</mark>\n",
              " or shortness of breath.  She denies \n",
              "<mark class=\"entity\" style=\"background: #938CE3; padding: 0.45em 0.6em; margin: 0 0.25em; line-height: 1; border-radius: 0.35em;\">\n",
              "    abdominal pain\n",
              "    <span style=\"font-size: 0.8em; font-weight: bold; line-height: 1; border-radius: 0.35em; vertical-align: middle; margin-left: 0.5rem\">SYMPTOM</span>\n",
              "</mark>\n",
              ".  Presently, she has left hip pain and left shoulder pain.  No \n",
              "<mark class=\"entity\" style=\"background: #938CE3; padding: 0.45em 0.6em; margin: 0 0.25em; line-height: 1; border-radius: 0.35em;\">\n",
              "    urinary frequency\n",
              "    <span style=\"font-size: 0.8em; font-weight: bold; line-height: 1; border-radius: 0.35em; vertical-align: middle; margin-left: 0.5rem\">SYMPTOM</span>\n",
              "</mark>\n",
              " or \n",
              "<mark class=\"entity\" style=\"background: #938CE3; padding: 0.45em 0.6em; margin: 0 0.25em; line-height: 1; border-radius: 0.35em;\">\n",
              "    dysuria\n",
              "    <span style=\"font-size: 0.8em; font-weight: bold; line-height: 1; border-radius: 0.35em; vertical-align: middle; margin-left: 0.5rem\">SYMPTOM</span>\n",
              "</mark>\n",
              ".  No skin lesions.  She does have \n",
              "<mark class=\"entity\" style=\"background: #938CE3; padding: 0.45em 0.6em; margin: 0 0.25em; line-height: 1; border-radius: 0.35em;\">\n",
              "    swelling\n",
              "    <span style=\"font-size: 0.8em; font-weight: bold; line-height: 1; border-radius: 0.35em; vertical-align: middle; margin-left: 0.5rem\">SYMPTOM</span>\n",
              "</mark>\n",
              " to both lower extremities for the last several weeks.  She denies endocrinopathies.  Psychiatric issues include chronic \n",
              "<mark class=\"entity\" style=\"background: #938CE3; padding: 0.45em 0.6em; margin: 0 0.25em; line-height: 1; border-radius: 0.35em;\">\n",
              "    depression\n",
              "    <span style=\"font-size: 0.8em; font-weight: bold; line-height: 1; border-radius: 0.35em; vertical-align: middle; margin-left: 0.5rem\">SYMPTOM</span>\n",
              "</mark>\n",
              ".,PHYSICAL EXAMINATION,GENERAL:  The patient is alert and responsive.,EXTREMITIES:  The left upper extremity, there is moderate \n",
              "<mark class=\"entity\" style=\"background: #938CE3; padding: 0.45em 0.6em; margin: 0 0.25em; line-height: 1; border-radius: 0.35em;\">\n",
              "    swelling\n",
              "    <span style=\"font-size: 0.8em; font-weight: bold; line-height: 1; border-radius: 0.35em; vertical-align: middle; margin-left: 0.5rem\">SYMPTOM</span>\n",
              "</mark>\n",
              " and ecchymosis to the brachial compartment.  She is diffusely tender over the proximal humerus.  She is unable to actively elevate her arm due to pain.  The neurovascular exam to the left upper extremity is otherwise intact with a 1+ radial pulse.  She does have chronic degenerative change to the MP and IP joints of both hands.  The left lower extremity, the thigh compartment is supple.  She has pain with log rolling tenderness over the greater trochanter.  The patient has pain with any attempt at hip flexion passively or actively.  The knee range of motion between 5 and 60 degrees with no point specific tenderness, no joint effusion, and an intact extensive mechanism.  She has 2 to 3+ bilateral pitting \n",
              "<mark class=\"entity\" style=\"background: #938CE3; padding: 0.45em 0.6em; margin: 0 0.25em; line-height: 1; border-radius: 0.35em;\">\n",
              "    edema\n",
              "    <span style=\"font-size: 0.8em; font-weight: bold; line-height: 1; border-radius: 0.35em; vertical-align: middle; margin-left: 0.5rem\">SYMPTOM</span>\n",
              "</mark>\n",
              " pretibially and pedally.  The patient has a \n",
              "<mark class=\"entity\" style=\"background: #938CE3; padding: 0.45em 0.6em; margin: 0 0.25em; line-height: 1; border-radius: 0.35em;\">\n",
              "    weak\n",
              "    <span style=\"font-size: 0.8em; font-weight: bold; line-height: 1; border-radius: 0.35em; vertical-align: middle; margin-left: 0.5rem\">SYMPTOM</span>\n",
              "</mark>\n",
              " motor response to the left lower extremity.  She has a 1+ dorsalis pedis pulse.  Her sensory examination is intact plantarly and dorsally on the foot.,RADIOGRAPHS:,  Left shoulder series was performed which identifies a three-part valgus-impacted left proximal humerus fracture with displacement of the greater tuberosity fragment approximately 1 cm.  There is no evidence of dislocation.  There was an AP pelvis as well as left hip series, which identify a nondisplaced valgus-impacted type 1 femoral neck fracture.  There is also evidence of severe degenerative disk disease with degenerative scoliosis of the LS spine.  There is evidence of previous surgical repair of the right proximal femur with an intact intramedullary nail.,LABORATORY STUDIES: , Patient's H&amp;H is 13 and 38.7, white blood cell count is 6.9, and there are 198,000 platelets.  Electrolytes, sodium 137, \n",
              "<mark class=\"entity\" style=\"background: #7DF6D9; padding: 0.45em 0.6em; margin: 0 0.25em; line-height: 1; border-radius: 0.35em;\">\n",
              "    potassium\n",
              "    <span style=\"font-size: 0.8em; font-weight: bold; line-height: 1; border-radius: 0.35em; vertical-align: middle; margin-left: 0.5rem\">DRUG</span>\n",
              "</mark>\n",
              " 4.1, chloride 102, CO2 is 27, BUN is 20, and creatinine 0.62.  Urinalysis, the urine is clear yellow, 0 to 2 white cells, and no bacteria.,ASSESSMENT,1.  This is an 88-year-old household ambulator with a walker, status post fall with injuries to left shoulder and left hip.  The left shoulder fracture is a valgus-impacted proximal humerus fracture and the left hip is a nondisplaced type 1 femoral neck fracture.,2.  Extensive medical history including coronary artery disease, peripheral vascular disease, and \n",
              "<mark class=\"entity\" style=\"background: #E39B8C; padding: 0.45em 0.6em; margin: 0 0.25em; line-height: 1; border-radius: 0.35em;\">\n",
              "    chronic obstructive pulmonary disease\n",
              "    <span style=\"font-size: 0.8em; font-weight: bold; line-height: 1; border-radius: 0.35em; vertical-align: middle; margin-left: 0.5rem\">DISEASE</span>\n",
              "</mark>\n",
              " on Plavix.,PLAN:,  I have discussed this case with the emergency room physician as well as the patient.  Patient should be admitted to medical service for medical clearance for surgery of her left hip, which will include a percutaneous screw fixation.  Since the patient is on Plavix, I recommend that the Plavix be discontinued and should be placed on Lovenox 30 mg subcu q.d. which may be stopped 24 hours before the procedure.  She will need cardiology clearance, which would include an echo in advance of the procedure.  I have explained the nature of the injuries to the patient, the recommended surgical procedures, and the postop course and rehabilitation required thereafter.  She presently understands and agrees with the plan.</div></span>"
            ]
          },
          "metadata": {}
        }
      ]
    },
    {
      "cell_type": "markdown",
      "source": [
        "#Testing with model trained on Kaggle dataset (cmed_ner_kaggle)"
      ],
      "metadata": {
        "id": "oDNoq3p5uHQW"
      }
    },
    {
      "cell_type": "code",
      "source": [
        "!unzip \"/content/drive/MyDrive/Colab Notebooks/NLP NER Project/Models/cmed_ner_kaggle/model-best.zip\" -d \"/content\""
      ],
      "metadata": {
        "id": "WzzZ37lQuKVy"
      },
      "execution_count": null,
      "outputs": []
    },
    {
      "cell_type": "code",
      "source": [
        "import spacy\n",
        "cmed_ner_kaggle =\"/content/content/model-best\"\n",
        "nc_nlp = spacy.load(cmed_ner_kaggle)\n",
        "\n",
        "nc_nlp.component_names\n",
        "nc_nlp.get_pipe('ner').labels"
      ],
      "metadata": {
        "id": "rR7Dc3YFwVXp"
      },
      "execution_count": null,
      "outputs": []
    },
    {
      "cell_type": "code",
      "source": [
        "nc_doc = nc_nlp(note)\n",
        "\n",
        "#  print(ent.text,\" : \",ent.label_)\n",
        "colors = {\"PATHOGEN\": \"#F67DE3\", \"MEDICINE\": \"#7DF6D9\", \"MEDICALCONDITION\":\"#f9cb9c\"}\n",
        "options = {\"colors\": colors}\n",
        "\n",
        "spacy.displacy.render(nc_doc, style=\"ent\", options= options, jupyter=True)\n"
      ],
      "metadata": {
        "colab": {
          "base_uri": "https://localhost:8080/",
          "height": 682
        },
        "id": "IXQPD2THwZMi",
        "outputId": "4631eb1f-9c57-4971-fead-4446ada27b52"
      },
      "execution_count": null,
      "outputs": [
        {
          "output_type": "display_data",
          "data": {
            "text/plain": [
              "<IPython.core.display.HTML object>"
            ],
            "text/html": [
              "<span class=\"tex2jax_ignore\"><div class=\"entities\" style=\"line-height: 2.5; direction: ltr\">HPI: -- is a 76 yo man with h/o HTN, DM, and \n",
              "<mark class=\"entity\" style=\"background: #f9cb9c; padding: 0.45em 0.6em; margin: 0 0.25em; line-height: 1; border-radius: 0.35em;\">\n",
              "    sleep apnea\n",
              "    <span style=\"font-size: 0.8em; font-weight: bold; line-height: 1; border-radius: 0.35em; vertical-align: middle; margin-left: 0.5rem\">MEDICALCONDITION</span>\n",
              "</mark>\n",
              " who presented to the ED</br>complaining of \n",
              "<mark class=\"entity\" style=\"background: #f9cb9c; padding: 0.45em 0.6em; margin: 0 0.25em; line-height: 1; border-radius: 0.35em;\">\n",
              "    chest pain\n",
              "    <span style=\"font-size: 0.8em; font-weight: bold; line-height: 1; border-radius: 0.35em; vertical-align: middle; margin-left: 0.5rem\">MEDICALCONDITION</span>\n",
              "</mark>\n",
              ". He states that the pain began the day before and consisted of a</br>sharp pain that lasted around 30 seconds, followed by a dull pain that would last around 2</br>minutes. The pain was located over his left chest area somewhat near his shoulder. The</br>onset of pain came while the patient was walking in his home. He did not sit and rest</br>during the pain, but continued to do household chores. Later on in the afternoon he went</br>to the gym where he walked 1 mile on the treadmill, rode the bike for 5 minutes, and</br>swam in the pool. After returning from the gym he did some work out in the yard,</br>cutting back some vines. He did not have any reoccurrences of \n",
              "<mark class=\"entity\" style=\"background: #f9cb9c; padding: 0.45em 0.6em; margin: 0 0.25em; line-height: 1; border-radius: 0.35em;\">\n",
              "    chest pain\n",
              "    <span style=\"font-size: 0.8em; font-weight: bold; line-height: 1; border-radius: 0.35em; vertical-align: middle; margin-left: 0.5rem\">MEDICALCONDITION</span>\n",
              "</mark>\n",
              " while at the</br>gym or later in the evening. The following morning (of his presentation to the ED) he</br>noticed the pain as he was getting out of bed. Once again it was a dull pain, preceded by</br>a short interval of a sharp pain. The patient did experience some tingling in his right arm</br>after the pain ceased. He continued to have several episodes of the pain throughout the</br>morning, so his daughter-in-law decided to take him to the ED around 12:30pm. The</br>painful episodes did not increase in intensity or severity during this time. At the ED the</br>patient was given \n",
              "<mark class=\"entity\" style=\"background: #7DF6D9; padding: 0.45em 0.6em; margin: 0 0.25em; line-height: 1; border-radius: 0.35em;\">\n",
              "    nitroglycerin\n",
              "    <span style=\"font-size: 0.8em; font-weight: bold; line-height: 1; border-radius: 0.35em; vertical-align: middle; margin-left: 0.5rem\">MEDICINE</span>\n",
              "</mark>\n",
              ", which he claims helped alleviate the pain somewhat. --</br>has not experienced any shortness of breath, \n",
              "<mark class=\"entity\" style=\"background: #f9cb9c; padding: 0.45em 0.6em; margin: 0 0.25em; line-height: 1; border-radius: 0.35em;\">\n",
              "    nausea\n",
              "    <span style=\"font-size: 0.8em; font-weight: bold; line-height: 1; border-radius: 0.35em; vertical-align: middle; margin-left: 0.5rem\">MEDICALCONDITION</span>\n",
              "</mark>\n",
              ", or diaphoresis during these episodes</br>of pain. He has never had \n",
              "<mark class=\"entity\" style=\"background: #f9cb9c; padding: 0.45em 0.6em; margin: 0 0.25em; line-height: 1; border-radius: 0.35em;\">\n",
              "    chest pain\n",
              "    <span style=\"font-size: 0.8em; font-weight: bold; line-height: 1; border-radius: 0.35em; vertical-align: middle; margin-left: 0.5rem\">MEDICALCONDITION</span>\n",
              "</mark>\n",
              " in the past. He has been told “years ago” that he</br>has a right bundle branch block and \n",
              "<mark class=\"entity\" style=\"background: #f9cb9c; padding: 0.45em 0.6em; margin: 0 0.25em; line-height: 1; border-radius: 0.35em;\">\n",
              "    premature heart beats\n",
              "    <span style=\"font-size: 0.8em; font-weight: bold; line-height: 1; border-radius: 0.35em; vertical-align: middle; margin-left: 0.5rem\">MEDICALCONDITION</span>\n",
              "</mark>\n",
              ". </div></span>"
            ]
          },
          "metadata": {}
        }
      ]
    },
    {
      "cell_type": "markdown",
      "source": [
        "#Testing with hugging face model"
      ],
      "metadata": {
        "id": "CWzH6BSkqYZu"
      }
    },
    {
      "cell_type": "code",
      "source": [
        "!pip install https://huggingface.co/kormilitzin/en_core_med7_lg/resolve/main/en_core_med7_lg-any-py3-none-any.whl\n"
      ],
      "metadata": {
        "id": "6xrAKbAJbIWu"
      },
      "execution_count": null,
      "outputs": []
    },
    {
      "cell_type": "code",
      "source": [
        "med7_nlp = spacy.load(\"en_core_med7_lg\")\n",
        "\n",
        "huggingface_doc = med7_nlp(note)\n",
        "colors = {'DOSAGE': \"#ea9999\", \"DRUG\": \"#f9cb9c\",\"DURATION\":\"#b4a7d6\",\"FORM\":\"#a2c4c9\",\"FREQUENCY\":\"#b6d7a8\",\"ROUTE\":\"#ebb6ff\",\"STRENGTH\":\"#daf9ef\"}\n",
        "options = {\"ents\": [\"DOSAGE\",\"DRUG\",\"DURATION\",\"FORM\",\"FREQUENCY\",\"ROUTE\",\"STRENGTH\"], \"colors\": colors}\n",
        "\n",
        "spacy.displacy.render(huggingface_doc,style ='ent',jupyter =True,options=options)\n",
        "\n",
        "\n"
      ],
      "metadata": {
        "colab": {
          "base_uri": "https://localhost:8080/",
          "height": 577
        },
        "id": "nI9_qLQRrQaB",
        "outputId": "a3c95e86-4a39-4f72-ee83-ef0176ee77c7"
      },
      "execution_count": null,
      "outputs": [
        {
          "output_type": "display_data",
          "data": {
            "text/plain": [
              "<IPython.core.display.HTML object>"
            ],
            "text/html": [
              "<span class=\"tex2jax_ignore\"><div class=\"entities\" style=\"line-height: 2.5; direction: ltr\">HISTORY OF PRESENT ILLNESS: , I have seen ABC today.  He is a very pleasant gentleman who is 42 years old, 344 pounds.  He is 5'9&quot;.  He has a BMI of 51.  He has been overweight for ten years since the age of 33, at his highest he was 358 pounds, at his lowest 260.  He is pursuing surgical attempts of weight loss to feel good, get healthy, and begin to exercise again.  He wants to be able to exercise and play volleyball.  Physically, he is sluggish.  He gets tired quickly.  He does not go out often.  When he loses weight he always regains it and he gains back more than he lost.  His biggest weight loss is 25 pounds and it was three months before he gained it back.  He did six months of not drinking alcohol and not taking in many calories.  He has been on multiple commercial weight loss programs including Slim Fast \n",
              "<mark class=\"entity\" style=\"background: #b4a7d6; padding: 0.45em 0.6em; margin: 0 0.25em; line-height: 1; border-radius: 0.35em;\">\n",
              "    for one month\n",
              "    <span style=\"font-size: 0.8em; font-weight: bold; line-height: 1; border-radius: 0.35em; vertical-align: middle; margin-left: 0.5rem\">DURATION</span>\n",
              "</mark>\n",
              " one year ago and Atkin's Diet for one month two years ago.,PAST MEDICAL HISTORY: , He has difficulty climbing stairs, difficulty with airline seats, tying shoes, used to public seating, difficulty walking, high cholesterol, and high blood pressure.  He has asthma and difficulty walking two blocks or going eight to ten steps.  He has sleep apnea and snoring.  He is a diabetic, on medication.  He has joint pain, knee pain, back pain, foot and ankle pain, leg and foot swelling.  He has hemorrhoids.,PAST SURGICAL HISTORY: , Includes orthopedic or knee surgery.,SOCIAL HISTORY: , He is currently single.  He drinks alcohol ten to twelve drinks a week, but does not drink five days a week and then will binge drink.  He smokes one and a half pack a day for 15 years, but he has recently stopped smoking for the past two weeks.,FAMILY HISTORY: , Obesity, heart disease, and diabetes.  Family history is negative for hypertension and stroke.,CURRENT MEDICATIONS:,  Include \n",
              "<mark class=\"entity\" style=\"background: #f9cb9c; padding: 0.45em 0.6em; margin: 0 0.25em; line-height: 1; border-radius: 0.35em;\">\n",
              "    Diovan\n",
              "    <span style=\"font-size: 0.8em; font-weight: bold; line-height: 1; border-radius: 0.35em; vertical-align: middle; margin-left: 0.5rem\">DRUG</span>\n",
              "</mark>\n",
              ", \n",
              "<mark class=\"entity\" style=\"background: #f9cb9c; padding: 0.45em 0.6em; margin: 0 0.25em; line-height: 1; border-radius: 0.35em;\">\n",
              "    Crestor\n",
              "    <span style=\"font-size: 0.8em; font-weight: bold; line-height: 1; border-radius: 0.35em; vertical-align: middle; margin-left: 0.5rem\">DRUG</span>\n",
              "</mark>\n",
              ", and \n",
              "<mark class=\"entity\" style=\"background: #f9cb9c; padding: 0.45em 0.6em; margin: 0 0.25em; line-height: 1; border-radius: 0.35em;\">\n",
              "    Tricor\n",
              "    <span style=\"font-size: 0.8em; font-weight: bold; line-height: 1; border-radius: 0.35em; vertical-align: middle; margin-left: 0.5rem\">DRUG</span>\n",
              "</mark>\n",
              ".,MISCELLANEOUS/EATING HISTORY:  ,He says a couple of friends of his have had heart attacks and have had died.  He used to drink everyday, but stopped two years ago.  He now only drinks on weekends.  He is on his second week of \n",
              "<mark class=\"entity\" style=\"background: #f9cb9c; padding: 0.45em 0.6em; margin: 0 0.25em; line-height: 1; border-radius: 0.35em;\">\n",
              "    Chantix\n",
              "    <span style=\"font-size: 0.8em; font-weight: bold; line-height: 1; border-radius: 0.35em; vertical-align: middle; margin-left: 0.5rem\">DRUG</span>\n",
              "</mark>\n",
              ", which is a medication to come off smoking completely.  Eating, he eats bad food.  He is single.  He eats things like bacon, eggs, and cheese, cheeseburgers, fast food, eats four times a day, seven in the morning, at noon, 9 p.m., and 2 a.m.  He currently weighs 344 pounds and 5'9&quot;.  His ideal body weight is 160 pounds.  He is 184 pounds overweight.  If he lost 70% of his excess body weight that would be 129 pounds and that would get him down to 215.,REVIEW OF SYSTEMS: , Negative for head, neck, heart, lungs, GI, GU, orthopedic, or skin.  He also is positive for gout.  He denies chest pain, heart attack, coronary artery disease, congestive heart failure, arrhythmia, atrial fibrillation, pacemaker, pulmonary embolism, or CVA.  He denies venous insufficiency or thrombophlebitis.  Denies shortness of breath, COPD, or emphysema.  Denies thyroid problems, hip pain, osteoarthritis, rheumatoid arthritis, GERD, hiatal hernia, peptic ulcer disease, gallstones, infected gallbladder, pancreatitis, fatty liver, hepatitis, rectal bleeding, polyps, incontinence of stool, urinary stress incontinence, or cancer.  He denies cellulitis, pseudotumor cerebri, meningitis, or encephalitis.,PHYSICAL EXAMINATION:  ,He is alert and oriented x 3.  Cranial nerves II-XII are intact.  Neck is soft and supple.  Lungs:  He has positive wheezing bilaterally.  Heart is regular rhythm and rate.  His abdomen is soft.  Extremities:  He has 1+ pitting edema.,IMPRESSION/PLAN:,  I have explained to him the risks and potential complications of laparoscopic gastric bypass in detail and these include bleeding, infection, deep venous thrombosis, pulmonary embolism, leakage from the gastrojejuno-anastomosis, jejunojejuno-anastomosis, and possible bowel obstruction among other potential complications.  He understands.  He wants to proceed with workup and evaluation for laparoscopic Roux-en-Y gastric bypass.  He will need to get a letter of approval from Dr. XYZ.  He will need to see a nutritionist and mental health worker.  He will need an upper endoscopy by either Dr. XYZ.  He will need to go to Dr. XYZ as he previously had a sleep study.  We will need another sleep study.  He will need H. pylori testing, thyroid function tests, LFTs, glycosylated hemoglobin, and fasting blood sugar.  After this is performed, we will submit him for insurance approval.</div></span>"
            ]
          },
          "metadata": {}
        }
      ]
    },
    {
      "cell_type": "markdown",
      "source": [],
      "metadata": {
        "id": "f7aqW3Phqohj"
      }
    },
    {
      "cell_type": "markdown",
      "source": [
        "#Testing with Scispace model"
      ],
      "metadata": {
        "id": "bEWfj0ZTqdDb"
      }
    },
    {
      "cell_type": "code",
      "source": [
        "!pip install scispacy\n",
        "!pip install https://s3-us-west-2.amazonaws.com/ai2-s2-scispacy/releases/v0.5.1/en_ner_bc5cdr_md-0.5.1.tar.gz"
      ],
      "metadata": {
        "id": "4VTzp_5bquLD"
      },
      "execution_count": null,
      "outputs": []
    },
    {
      "cell_type": "code",
      "source": [
        "sci_nlp = spacy.load(\"en_ner_bc5cdr_md\")\n",
        "\n",
        "scispcay_doc = sci_nlp(note)\n",
        "colors = {'DISEASE': \"#85C1EA\", \"CHEMICAL\": \"#ff6961\"}\n",
        "options = {\"ents\": ['DISEASE', 'CHEMICAL'], \"colors\": colors}\n",
        "\n",
        "spacy.displacy.render(scispcay_doc,style ='ent',jupyter =True,options=options)"
      ],
      "metadata": {
        "colab": {
          "base_uri": "https://localhost:8080/",
          "height": 702
        },
        "id": "9LXI0xZ5qyBu",
        "outputId": "f90d84a8-f9b2-4eb2-ead0-e846e43c4a6c"
      },
      "execution_count": null,
      "outputs": [
        {
          "output_type": "display_data",
          "data": {
            "text/plain": [
              "<IPython.core.display.HTML object>"
            ],
            "text/html": [
              "<span class=\"tex2jax_ignore\"><div class=\"entities\" style=\"line-height: 2.5; direction: ltr\">HISTORY OF PRESENT ILLNESS: , I have seen ABC today.  He is a very pleasant gentleman who is 42 years old, 344 pounds.  He is 5'9&quot;.  He has a BMI of 51.  He has been overweight for ten years since the age of 33, at his highest he was 358 pounds, at his lowest 260.  He is pursuing surgical attempts of \n",
              "<mark class=\"entity\" style=\"background: #85C1EA; padding: 0.45em 0.6em; margin: 0 0.25em; line-height: 1; border-radius: 0.35em;\">\n",
              "    weight loss\n",
              "    <span style=\"font-size: 0.8em; font-weight: bold; line-height: 1; border-radius: 0.35em; vertical-align: middle; margin-left: 0.5rem\">DISEASE</span>\n",
              "</mark>\n",
              " to feel good, get healthy, and begin to exercise again.  He wants to be able to exercise and play volleyball.  Physically, he is sluggish.  He gets tired quickly.  He does not go out often.  When he loses weight he always regains it and he gains back more than he lost.  His biggest \n",
              "<mark class=\"entity\" style=\"background: #85C1EA; padding: 0.45em 0.6em; margin: 0 0.25em; line-height: 1; border-radius: 0.35em;\">\n",
              "    weight loss\n",
              "    <span style=\"font-size: 0.8em; font-weight: bold; line-height: 1; border-radius: 0.35em; vertical-align: middle; margin-left: 0.5rem\">DISEASE</span>\n",
              "</mark>\n",
              " is 25 pounds and it was three months before he gained it back.  He did six months of not drinking \n",
              "<mark class=\"entity\" style=\"background: #ff6961; padding: 0.45em 0.6em; margin: 0 0.25em; line-height: 1; border-radius: 0.35em;\">\n",
              "    alcohol\n",
              "    <span style=\"font-size: 0.8em; font-weight: bold; line-height: 1; border-radius: 0.35em; vertical-align: middle; margin-left: 0.5rem\">CHEMICAL</span>\n",
              "</mark>\n",
              " and not taking in many calories.  He has been on multiple commercial \n",
              "<mark class=\"entity\" style=\"background: #85C1EA; padding: 0.45em 0.6em; margin: 0 0.25em; line-height: 1; border-radius: 0.35em;\">\n",
              "    weight loss\n",
              "    <span style=\"font-size: 0.8em; font-weight: bold; line-height: 1; border-radius: 0.35em; vertical-align: middle; margin-left: 0.5rem\">DISEASE</span>\n",
              "</mark>\n",
              " programs including Slim Fast for one month one year ago and Atkin's Diet for one month two years ago.,PAST MEDICAL HISTORY: , He has difficulty climbing stairs, difficulty with airline seats, tying shoes, used to public seating, difficulty walking, high \n",
              "<mark class=\"entity\" style=\"background: #ff6961; padding: 0.45em 0.6em; margin: 0 0.25em; line-height: 1; border-radius: 0.35em;\">\n",
              "    cholesterol\n",
              "    <span style=\"font-size: 0.8em; font-weight: bold; line-height: 1; border-radius: 0.35em; vertical-align: middle; margin-left: 0.5rem\">CHEMICAL</span>\n",
              "</mark>\n",
              ", and high blood pressure.  He has \n",
              "<mark class=\"entity\" style=\"background: #85C1EA; padding: 0.45em 0.6em; margin: 0 0.25em; line-height: 1; border-radius: 0.35em;\">\n",
              "    asthma\n",
              "    <span style=\"font-size: 0.8em; font-weight: bold; line-height: 1; border-radius: 0.35em; vertical-align: middle; margin-left: 0.5rem\">DISEASE</span>\n",
              "</mark>\n",
              " and difficulty walking two blocks or going eight to ten steps.  He has sleep \n",
              "<mark class=\"entity\" style=\"background: #85C1EA; padding: 0.45em 0.6em; margin: 0 0.25em; line-height: 1; border-radius: 0.35em;\">\n",
              "    apnea\n",
              "    <span style=\"font-size: 0.8em; font-weight: bold; line-height: 1; border-radius: 0.35em; vertical-align: middle; margin-left: 0.5rem\">DISEASE</span>\n",
              "</mark>\n",
              " and \n",
              "<mark class=\"entity\" style=\"background: #85C1EA; padding: 0.45em 0.6em; margin: 0 0.25em; line-height: 1; border-radius: 0.35em;\">\n",
              "    snoring\n",
              "    <span style=\"font-size: 0.8em; font-weight: bold; line-height: 1; border-radius: 0.35em; vertical-align: middle; margin-left: 0.5rem\">DISEASE</span>\n",
              "</mark>\n",
              ".  He is a \n",
              "<mark class=\"entity\" style=\"background: #85C1EA; padding: 0.45em 0.6em; margin: 0 0.25em; line-height: 1; border-radius: 0.35em;\">\n",
              "    diabetic\n",
              "    <span style=\"font-size: 0.8em; font-weight: bold; line-height: 1; border-radius: 0.35em; vertical-align: middle; margin-left: 0.5rem\">DISEASE</span>\n",
              "</mark>\n",
              ", on medication.  He has joint \n",
              "<mark class=\"entity\" style=\"background: #85C1EA; padding: 0.45em 0.6em; margin: 0 0.25em; line-height: 1; border-radius: 0.35em;\">\n",
              "    pain\n",
              "    <span style=\"font-size: 0.8em; font-weight: bold; line-height: 1; border-radius: 0.35em; vertical-align: middle; margin-left: 0.5rem\">DISEASE</span>\n",
              "</mark>\n",
              ", \n",
              "<mark class=\"entity\" style=\"background: #85C1EA; padding: 0.45em 0.6em; margin: 0 0.25em; line-height: 1; border-radius: 0.35em;\">\n",
              "    knee pain\n",
              "    <span style=\"font-size: 0.8em; font-weight: bold; line-height: 1; border-radius: 0.35em; vertical-align: middle; margin-left: 0.5rem\">DISEASE</span>\n",
              "</mark>\n",
              ", back \n",
              "<mark class=\"entity\" style=\"background: #85C1EA; padding: 0.45em 0.6em; margin: 0 0.25em; line-height: 1; border-radius: 0.35em;\">\n",
              "    pain\n",
              "    <span style=\"font-size: 0.8em; font-weight: bold; line-height: 1; border-radius: 0.35em; vertical-align: middle; margin-left: 0.5rem\">DISEASE</span>\n",
              "</mark>\n",
              ", foot and \n",
              "<mark class=\"entity\" style=\"background: #85C1EA; padding: 0.45em 0.6em; margin: 0 0.25em; line-height: 1; border-radius: 0.35em;\">\n",
              "    ankle pain\n",
              "    <span style=\"font-size: 0.8em; font-weight: bold; line-height: 1; border-radius: 0.35em; vertical-align: middle; margin-left: 0.5rem\">DISEASE</span>\n",
              "</mark>\n",
              ", leg and foot swelling.  He has \n",
              "<mark class=\"entity\" style=\"background: #85C1EA; padding: 0.45em 0.6em; margin: 0 0.25em; line-height: 1; border-radius: 0.35em;\">\n",
              "    hemorrhoids.,PAST\n",
              "    <span style=\"font-size: 0.8em; font-weight: bold; line-height: 1; border-radius: 0.35em; vertical-align: middle; margin-left: 0.5rem\">DISEASE</span>\n",
              "</mark>\n",
              " SURGICAL HISTORY: , Includes orthopedic or knee surgery.,SOCIAL HISTORY: , He is currently single.  He drinks \n",
              "<mark class=\"entity\" style=\"background: #ff6961; padding: 0.45em 0.6em; margin: 0 0.25em; line-height: 1; border-radius: 0.35em;\">\n",
              "    alcohol\n",
              "    <span style=\"font-size: 0.8em; font-weight: bold; line-height: 1; border-radius: 0.35em; vertical-align: middle; margin-left: 0.5rem\">CHEMICAL</span>\n",
              "</mark>\n",
              " ten to twelve drinks a week, but does not drink five days a week and then will binge drink.  He smokes one and a half pack a day for 15 years, but he has recently stopped smoking for the past two weeks.,FAMILY HISTORY: , \n",
              "<mark class=\"entity\" style=\"background: #85C1EA; padding: 0.45em 0.6em; margin: 0 0.25em; line-height: 1; border-radius: 0.35em;\">\n",
              "    Obesity\n",
              "    <span style=\"font-size: 0.8em; font-weight: bold; line-height: 1; border-radius: 0.35em; vertical-align: middle; margin-left: 0.5rem\">DISEASE</span>\n",
              "</mark>\n",
              ", \n",
              "<mark class=\"entity\" style=\"background: #85C1EA; padding: 0.45em 0.6em; margin: 0 0.25em; line-height: 1; border-radius: 0.35em;\">\n",
              "    heart disease\n",
              "    <span style=\"font-size: 0.8em; font-weight: bold; line-height: 1; border-radius: 0.35em; vertical-align: middle; margin-left: 0.5rem\">DISEASE</span>\n",
              "</mark>\n",
              ", and \n",
              "<mark class=\"entity\" style=\"background: #85C1EA; padding: 0.45em 0.6em; margin: 0 0.25em; line-height: 1; border-radius: 0.35em;\">\n",
              "    diabetes\n",
              "    <span style=\"font-size: 0.8em; font-weight: bold; line-height: 1; border-radius: 0.35em; vertical-align: middle; margin-left: 0.5rem\">DISEASE</span>\n",
              "</mark>\n",
              ".  Family history is negative for \n",
              "<mark class=\"entity\" style=\"background: #85C1EA; padding: 0.45em 0.6em; margin: 0 0.25em; line-height: 1; border-radius: 0.35em;\">\n",
              "    hypertension\n",
              "    <span style=\"font-size: 0.8em; font-weight: bold; line-height: 1; border-radius: 0.35em; vertical-align: middle; margin-left: 0.5rem\">DISEASE</span>\n",
              "</mark>\n",
              " and stroke.,CURRENT MEDICATIONS:,  Include \n",
              "<mark class=\"entity\" style=\"background: #ff6961; padding: 0.45em 0.6em; margin: 0 0.25em; line-height: 1; border-radius: 0.35em;\">\n",
              "    Diovan\n",
              "    <span style=\"font-size: 0.8em; font-weight: bold; line-height: 1; border-radius: 0.35em; vertical-align: middle; margin-left: 0.5rem\">CHEMICAL</span>\n",
              "</mark>\n",
              ", \n",
              "<mark class=\"entity\" style=\"background: #ff6961; padding: 0.45em 0.6em; margin: 0 0.25em; line-height: 1; border-radius: 0.35em;\">\n",
              "    Crestor\n",
              "    <span style=\"font-size: 0.8em; font-weight: bold; line-height: 1; border-radius: 0.35em; vertical-align: middle; margin-left: 0.5rem\">CHEMICAL</span>\n",
              "</mark>\n",
              ", and Tricor.,MISCELLANEOUS/EATING HISTORY:  ,He says a couple of friends of his have had \n",
              "<mark class=\"entity\" style=\"background: #85C1EA; padding: 0.45em 0.6em; margin: 0 0.25em; line-height: 1; border-radius: 0.35em;\">\n",
              "    heart attacks\n",
              "    <span style=\"font-size: 0.8em; font-weight: bold; line-height: 1; border-radius: 0.35em; vertical-align: middle; margin-left: 0.5rem\">DISEASE</span>\n",
              "</mark>\n",
              " and have had died.  He used to drink everyday, but stopped two years ago.  He now only drinks on weekends.  He is on his second week of \n",
              "<mark class=\"entity\" style=\"background: #ff6961; padding: 0.45em 0.6em; margin: 0 0.25em; line-height: 1; border-radius: 0.35em;\">\n",
              "    Chantix\n",
              "    <span style=\"font-size: 0.8em; font-weight: bold; line-height: 1; border-radius: 0.35em; vertical-align: middle; margin-left: 0.5rem\">CHEMICAL</span>\n",
              "</mark>\n",
              ", which is a medication to come off smoking completely.  Eating, he eats bad food.  He is single.  He eats things like bacon, eggs, and cheese, cheeseburgers, fast food, eats four times a day, seven in the morning, at noon, 9 p.m., and 2 a.m.  He currently weighs 344 pounds and 5'9&quot;.  His ideal body weight is 160 pounds.  He is 184 pounds overweight.  If he lost 70% of his excess body weight that would be 129 pounds and that would get him down to 215.,REVIEW OF SYSTEMS: , Negative for head, neck, heart, lungs, GI, GU, orthopedic, or skin.  He also is positive for \n",
              "<mark class=\"entity\" style=\"background: #85C1EA; padding: 0.45em 0.6em; margin: 0 0.25em; line-height: 1; border-radius: 0.35em;\">\n",
              "    gout\n",
              "    <span style=\"font-size: 0.8em; font-weight: bold; line-height: 1; border-radius: 0.35em; vertical-align: middle; margin-left: 0.5rem\">DISEASE</span>\n",
              "</mark>\n",
              ".  He denies \n",
              "<mark class=\"entity\" style=\"background: #85C1EA; padding: 0.45em 0.6em; margin: 0 0.25em; line-height: 1; border-radius: 0.35em;\">\n",
              "    chest pain\n",
              "    <span style=\"font-size: 0.8em; font-weight: bold; line-height: 1; border-radius: 0.35em; vertical-align: middle; margin-left: 0.5rem\">DISEASE</span>\n",
              "</mark>\n",
              ", heart attack, \n",
              "<mark class=\"entity\" style=\"background: #85C1EA; padding: 0.45em 0.6em; margin: 0 0.25em; line-height: 1; border-radius: 0.35em;\">\n",
              "    coronary artery disease\n",
              "    <span style=\"font-size: 0.8em; font-weight: bold; line-height: 1; border-radius: 0.35em; vertical-align: middle; margin-left: 0.5rem\">DISEASE</span>\n",
              "</mark>\n",
              ", \n",
              "<mark class=\"entity\" style=\"background: #85C1EA; padding: 0.45em 0.6em; margin: 0 0.25em; line-height: 1; border-radius: 0.35em;\">\n",
              "    congestive heart failure\n",
              "    <span style=\"font-size: 0.8em; font-weight: bold; line-height: 1; border-radius: 0.35em; vertical-align: middle; margin-left: 0.5rem\">DISEASE</span>\n",
              "</mark>\n",
              ", \n",
              "<mark class=\"entity\" style=\"background: #85C1EA; padding: 0.45em 0.6em; margin: 0 0.25em; line-height: 1; border-radius: 0.35em;\">\n",
              "    arrhythmia\n",
              "    <span style=\"font-size: 0.8em; font-weight: bold; line-height: 1; border-radius: 0.35em; vertical-align: middle; margin-left: 0.5rem\">DISEASE</span>\n",
              "</mark>\n",
              ", \n",
              "<mark class=\"entity\" style=\"background: #85C1EA; padding: 0.45em 0.6em; margin: 0 0.25em; line-height: 1; border-radius: 0.35em;\">\n",
              "    atrial fibrillation\n",
              "    <span style=\"font-size: 0.8em; font-weight: bold; line-height: 1; border-radius: 0.35em; vertical-align: middle; margin-left: 0.5rem\">DISEASE</span>\n",
              "</mark>\n",
              ", pacemaker, \n",
              "<mark class=\"entity\" style=\"background: #85C1EA; padding: 0.45em 0.6em; margin: 0 0.25em; line-height: 1; border-radius: 0.35em;\">\n",
              "    pulmonary embolism\n",
              "    <span style=\"font-size: 0.8em; font-weight: bold; line-height: 1; border-radius: 0.35em; vertical-align: middle; margin-left: 0.5rem\">DISEASE</span>\n",
              "</mark>\n",
              ", or \n",
              "<mark class=\"entity\" style=\"background: #ff6961; padding: 0.45em 0.6em; margin: 0 0.25em; line-height: 1; border-radius: 0.35em;\">\n",
              "    CVA\n",
              "    <span style=\"font-size: 0.8em; font-weight: bold; line-height: 1; border-radius: 0.35em; vertical-align: middle; margin-left: 0.5rem\">CHEMICAL</span>\n",
              "</mark>\n",
              ".  He denies \n",
              "<mark class=\"entity\" style=\"background: #85C1EA; padding: 0.45em 0.6em; margin: 0 0.25em; line-height: 1; border-radius: 0.35em;\">\n",
              "    venous insufficiency\n",
              "    <span style=\"font-size: 0.8em; font-weight: bold; line-height: 1; border-radius: 0.35em; vertical-align: middle; margin-left: 0.5rem\">DISEASE</span>\n",
              "</mark>\n",
              " or \n",
              "<mark class=\"entity\" style=\"background: #85C1EA; padding: 0.45em 0.6em; margin: 0 0.25em; line-height: 1; border-radius: 0.35em;\">\n",
              "    thrombophlebitis\n",
              "    <span style=\"font-size: 0.8em; font-weight: bold; line-height: 1; border-radius: 0.35em; vertical-align: middle; margin-left: 0.5rem\">DISEASE</span>\n",
              "</mark>\n",
              ".  Denies \n",
              "<mark class=\"entity\" style=\"background: #85C1EA; padding: 0.45em 0.6em; margin: 0 0.25em; line-height: 1; border-radius: 0.35em;\">\n",
              "    shortness of breath\n",
              "    <span style=\"font-size: 0.8em; font-weight: bold; line-height: 1; border-radius: 0.35em; vertical-align: middle; margin-left: 0.5rem\">DISEASE</span>\n",
              "</mark>\n",
              ", \n",
              "<mark class=\"entity\" style=\"background: #85C1EA; padding: 0.45em 0.6em; margin: 0 0.25em; line-height: 1; border-radius: 0.35em;\">\n",
              "    COPD\n",
              "    <span style=\"font-size: 0.8em; font-weight: bold; line-height: 1; border-radius: 0.35em; vertical-align: middle; margin-left: 0.5rem\">DISEASE</span>\n",
              "</mark>\n",
              ", or emphysema.  Denies thyroid problems, hip \n",
              "<mark class=\"entity\" style=\"background: #85C1EA; padding: 0.45em 0.6em; margin: 0 0.25em; line-height: 1; border-radius: 0.35em;\">\n",
              "    pain\n",
              "    <span style=\"font-size: 0.8em; font-weight: bold; line-height: 1; border-radius: 0.35em; vertical-align: middle; margin-left: 0.5rem\">DISEASE</span>\n",
              "</mark>\n",
              ", \n",
              "<mark class=\"entity\" style=\"background: #85C1EA; padding: 0.45em 0.6em; margin: 0 0.25em; line-height: 1; border-radius: 0.35em;\">\n",
              "    osteoarthritis\n",
              "    <span style=\"font-size: 0.8em; font-weight: bold; line-height: 1; border-radius: 0.35em; vertical-align: middle; margin-left: 0.5rem\">DISEASE</span>\n",
              "</mark>\n",
              ", \n",
              "<mark class=\"entity\" style=\"background: #85C1EA; padding: 0.45em 0.6em; margin: 0 0.25em; line-height: 1; border-radius: 0.35em;\">\n",
              "    rheumatoid arthritis\n",
              "    <span style=\"font-size: 0.8em; font-weight: bold; line-height: 1; border-radius: 0.35em; vertical-align: middle; margin-left: 0.5rem\">DISEASE</span>\n",
              "</mark>\n",
              ", \n",
              "<mark class=\"entity\" style=\"background: #85C1EA; padding: 0.45em 0.6em; margin: 0 0.25em; line-height: 1; border-radius: 0.35em;\">\n",
              "    GERD\n",
              "    <span style=\"font-size: 0.8em; font-weight: bold; line-height: 1; border-radius: 0.35em; vertical-align: middle; margin-left: 0.5rem\">DISEASE</span>\n",
              "</mark>\n",
              ", \n",
              "<mark class=\"entity\" style=\"background: #85C1EA; padding: 0.45em 0.6em; margin: 0 0.25em; line-height: 1; border-radius: 0.35em;\">\n",
              "    hiatal hernia\n",
              "    <span style=\"font-size: 0.8em; font-weight: bold; line-height: 1; border-radius: 0.35em; vertical-align: middle; margin-left: 0.5rem\">DISEASE</span>\n",
              "</mark>\n",
              ", \n",
              "<mark class=\"entity\" style=\"background: #85C1EA; padding: 0.45em 0.6em; margin: 0 0.25em; line-height: 1; border-radius: 0.35em;\">\n",
              "    peptic ulcer disease\n",
              "    <span style=\"font-size: 0.8em; font-weight: bold; line-height: 1; border-radius: 0.35em; vertical-align: middle; margin-left: 0.5rem\">DISEASE</span>\n",
              "</mark>\n",
              ", \n",
              "<mark class=\"entity\" style=\"background: #85C1EA; padding: 0.45em 0.6em; margin: 0 0.25em; line-height: 1; border-radius: 0.35em;\">\n",
              "    gallstones\n",
              "    <span style=\"font-size: 0.8em; font-weight: bold; line-height: 1; border-radius: 0.35em; vertical-align: middle; margin-left: 0.5rem\">DISEASE</span>\n",
              "</mark>\n",
              ", infected gallbladder, \n",
              "<mark class=\"entity\" style=\"background: #85C1EA; padding: 0.45em 0.6em; margin: 0 0.25em; line-height: 1; border-radius: 0.35em;\">\n",
              "    pancreatitis\n",
              "    <span style=\"font-size: 0.8em; font-weight: bold; line-height: 1; border-radius: 0.35em; vertical-align: middle; margin-left: 0.5rem\">DISEASE</span>\n",
              "</mark>\n",
              ", \n",
              "<mark class=\"entity\" style=\"background: #85C1EA; padding: 0.45em 0.6em; margin: 0 0.25em; line-height: 1; border-radius: 0.35em;\">\n",
              "    fatty liver\n",
              "    <span style=\"font-size: 0.8em; font-weight: bold; line-height: 1; border-radius: 0.35em; vertical-align: middle; margin-left: 0.5rem\">DISEASE</span>\n",
              "</mark>\n",
              ", \n",
              "<mark class=\"entity\" style=\"background: #85C1EA; padding: 0.45em 0.6em; margin: 0 0.25em; line-height: 1; border-radius: 0.35em;\">\n",
              "    hepatitis\n",
              "    <span style=\"font-size: 0.8em; font-weight: bold; line-height: 1; border-radius: 0.35em; vertical-align: middle; margin-left: 0.5rem\">DISEASE</span>\n",
              "</mark>\n",
              ", rectal \n",
              "<mark class=\"entity\" style=\"background: #85C1EA; padding: 0.45em 0.6em; margin: 0 0.25em; line-height: 1; border-radius: 0.35em;\">\n",
              "    bleeding\n",
              "    <span style=\"font-size: 0.8em; font-weight: bold; line-height: 1; border-radius: 0.35em; vertical-align: middle; margin-left: 0.5rem\">DISEASE</span>\n",
              "</mark>\n",
              ", \n",
              "<mark class=\"entity\" style=\"background: #85C1EA; padding: 0.45em 0.6em; margin: 0 0.25em; line-height: 1; border-radius: 0.35em;\">\n",
              "    polyps\n",
              "    <span style=\"font-size: 0.8em; font-weight: bold; line-height: 1; border-radius: 0.35em; vertical-align: middle; margin-left: 0.5rem\">DISEASE</span>\n",
              "</mark>\n",
              ", \n",
              "<mark class=\"entity\" style=\"background: #85C1EA; padding: 0.45em 0.6em; margin: 0 0.25em; line-height: 1; border-radius: 0.35em;\">\n",
              "    incontinence\n",
              "    <span style=\"font-size: 0.8em; font-weight: bold; line-height: 1; border-radius: 0.35em; vertical-align: middle; margin-left: 0.5rem\">DISEASE</span>\n",
              "</mark>\n",
              " of stool, \n",
              "<mark class=\"entity\" style=\"background: #85C1EA; padding: 0.45em 0.6em; margin: 0 0.25em; line-height: 1; border-radius: 0.35em;\">\n",
              "    urinary stress incontinence\n",
              "    <span style=\"font-size: 0.8em; font-weight: bold; line-height: 1; border-radius: 0.35em; vertical-align: middle; margin-left: 0.5rem\">DISEASE</span>\n",
              "</mark>\n",
              ", or \n",
              "<mark class=\"entity\" style=\"background: #85C1EA; padding: 0.45em 0.6em; margin: 0 0.25em; line-height: 1; border-radius: 0.35em;\">\n",
              "    cancer\n",
              "    <span style=\"font-size: 0.8em; font-weight: bold; line-height: 1; border-radius: 0.35em; vertical-align: middle; margin-left: 0.5rem\">DISEASE</span>\n",
              "</mark>\n",
              ".  He denies \n",
              "<mark class=\"entity\" style=\"background: #85C1EA; padding: 0.45em 0.6em; margin: 0 0.25em; line-height: 1; border-radius: 0.35em;\">\n",
              "    cellulitis\n",
              "    <span style=\"font-size: 0.8em; font-weight: bold; line-height: 1; border-radius: 0.35em; vertical-align: middle; margin-left: 0.5rem\">DISEASE</span>\n",
              "</mark>\n",
              ", pseudotumor cerebri, \n",
              "<mark class=\"entity\" style=\"background: #85C1EA; padding: 0.45em 0.6em; margin: 0 0.25em; line-height: 1; border-radius: 0.35em;\">\n",
              "    meningitis\n",
              "    <span style=\"font-size: 0.8em; font-weight: bold; line-height: 1; border-radius: 0.35em; vertical-align: middle; margin-left: 0.5rem\">DISEASE</span>\n",
              "</mark>\n",
              ", or encephalitis.,PHYSICAL EXAMINATION:  ,He is alert and oriented x 3.  Cranial nerves II-XII are intact.  Neck is soft and supple.  Lungs:  He has positive \n",
              "<mark class=\"entity\" style=\"background: #85C1EA; padding: 0.45em 0.6em; margin: 0 0.25em; line-height: 1; border-radius: 0.35em;\">\n",
              "    wheezing\n",
              "    <span style=\"font-size: 0.8em; font-weight: bold; line-height: 1; border-radius: 0.35em; vertical-align: middle; margin-left: 0.5rem\">DISEASE</span>\n",
              "</mark>\n",
              " bilaterally.  Heart is regular rhythm and rate.  His abdomen is soft.  Extremities:  He has 1+ \n",
              "<mark class=\"entity\" style=\"background: #85C1EA; padding: 0.45em 0.6em; margin: 0 0.25em; line-height: 1; border-radius: 0.35em;\">\n",
              "    pitting\n",
              "    <span style=\"font-size: 0.8em; font-weight: bold; line-height: 1; border-radius: 0.35em; vertical-align: middle; margin-left: 0.5rem\">DISEASE</span>\n",
              "</mark>\n",
              " edema.,IMPRESSION/PLAN:,  I have explained to him the risks and potential complications of laparoscopic gastric bypass in detail and these include \n",
              "<mark class=\"entity\" style=\"background: #85C1EA; padding: 0.45em 0.6em; margin: 0 0.25em; line-height: 1; border-radius: 0.35em;\">\n",
              "    bleeding\n",
              "    <span style=\"font-size: 0.8em; font-weight: bold; line-height: 1; border-radius: 0.35em; vertical-align: middle; margin-left: 0.5rem\">DISEASE</span>\n",
              "</mark>\n",
              ", \n",
              "<mark class=\"entity\" style=\"background: #85C1EA; padding: 0.45em 0.6em; margin: 0 0.25em; line-height: 1; border-radius: 0.35em;\">\n",
              "    infection\n",
              "    <span style=\"font-size: 0.8em; font-weight: bold; line-height: 1; border-radius: 0.35em; vertical-align: middle; margin-left: 0.5rem\">DISEASE</span>\n",
              "</mark>\n",
              ", deep \n",
              "<mark class=\"entity\" style=\"background: #85C1EA; padding: 0.45em 0.6em; margin: 0 0.25em; line-height: 1; border-radius: 0.35em;\">\n",
              "    venous thrombosis\n",
              "    <span style=\"font-size: 0.8em; font-weight: bold; line-height: 1; border-radius: 0.35em; vertical-align: middle; margin-left: 0.5rem\">DISEASE</span>\n",
              "</mark>\n",
              ", \n",
              "<mark class=\"entity\" style=\"background: #85C1EA; padding: 0.45em 0.6em; margin: 0 0.25em; line-height: 1; border-radius: 0.35em;\">\n",
              "    pulmonary embolism\n",
              "    <span style=\"font-size: 0.8em; font-weight: bold; line-height: 1; border-radius: 0.35em; vertical-align: middle; margin-left: 0.5rem\">DISEASE</span>\n",
              "</mark>\n",
              ", leakage from the gastrojejuno-anastomosis, jejunojejuno-anastomosis, and possible \n",
              "<mark class=\"entity\" style=\"background: #85C1EA; padding: 0.45em 0.6em; margin: 0 0.25em; line-height: 1; border-radius: 0.35em;\">\n",
              "    bowel obstruction\n",
              "    <span style=\"font-size: 0.8em; font-weight: bold; line-height: 1; border-radius: 0.35em; vertical-align: middle; margin-left: 0.5rem\">DISEASE</span>\n",
              "</mark>\n",
              " among other potential complications.  He understands.  He wants to proceed with workup and evaluation for laparoscopic Roux-en-Y gastric bypass.  He will need to get a letter of approval from Dr. XYZ.  He will need to see a nutritionist and mental health worker.  He will need an upper endoscopy by either Dr. XYZ.  He will need to go to Dr. XYZ as he previously had a sleep study.  We will need another sleep study.  He will need H. \n",
              "<mark class=\"entity\" style=\"background: #85C1EA; padding: 0.45em 0.6em; margin: 0 0.25em; line-height: 1; border-radius: 0.35em;\">\n",
              "    pylori\n",
              "    <span style=\"font-size: 0.8em; font-weight: bold; line-height: 1; border-radius: 0.35em; vertical-align: middle; margin-left: 0.5rem\">DISEASE</span>\n",
              "</mark>\n",
              " testing, thyroid function tests, LFTs, glycosylated hemoglobin, and fasting blood sugar.  After this is performed, we will submit him for insurance approval.</div></span>"
            ]
          },
          "metadata": {}
        }
      ]
    },
    {
      "cell_type": "markdown",
      "source": [
        "#Evaluating"
      ],
      "metadata": {
        "id": "eNFYw7MOqr_B"
      }
    },
    {
      "cell_type": "code",
      "source": [
        "import re\n",
        "doc = \"I have a fever ,back pain and other diarrhea, Should I take medicine, tylonol? paracetamol or metformin?\"\n",
        "doc2 =\"I am taking medicine, propanolol, rifampicin and quinolone.DO I have malaria or TB?\"\n",
        "pattern = 'fever|back pain|paracetamol|metformin|propanolol|rifampicin|quinolone|malaria|TB'\n",
        "regex = re.compile(pattern)\n",
        "diseases = regex.findall(doc2)\n",
        "print(\"Extracting DISEASES: \",diseases)\n",
        "for match in regex.finditer(doc2):\n",
        " print(match.group(), match.start(), match.end())\n"
      ],
      "metadata": {
        "colab": {
          "base_uri": "https://localhost:8080/"
        },
        "id": "D_7VequdcZ7x",
        "outputId": "cd603571-a6bf-4108-b00a-37fb78bf264a"
      },
      "execution_count": null,
      "outputs": [
        {
          "output_type": "stream",
          "name": "stdout",
          "text": [
            "Extracting DISEASES:  ['propanolol', 'rifampicin', 'quinolone', 'malaria', 'TB']\n",
            "propanolol 22 32\n",
            "rifampicin 34 44\n",
            "quinolone 49 58\n",
            "malaria 69 76\n",
            "TB 80 82\n"
          ]
        }
      ]
    },
    {
      "cell_type": "code",
      "source": [
        "import spacy\n",
        "from spacy.scorer import Scorer\n",
        "from spacy.tokens import Doc\n",
        "from spacy.training.example import Example\n",
        "\n",
        "\n",
        "examples = [\n",
        "    ('I have a fever ,back pain and other diarrhea, Should I take medicine, tylonol? paracetamol or metformin?',\n",
        "     {(9, 14, 'SYMPTOM'),(16, 25, 'SYMPTOM'),(79, 90, 'DRUG',(94, 103, 'DRUG'))}),\n",
        "    ( ' I am taking medicine, propanolol, rifampicin and quinolone.DO I have malaria or TB?',\n",
        "     {(22, 32, 'DRUG'), (34, 44, 'DRUG'),(49, 58, 'DRUG'),(59, 76, 'DISEASE'),(80, 82, 'DISEASE')})\n",
        "]\n",
        "\n",
        "def evaluate(ner_model, examples):\n",
        "    scorer = Scorer()\n",
        "    example = []\n",
        "    for input_, annot in examples:\n",
        "        pred = ner_model(input_)\n",
        "        print(pred,annot)\n",
        "        temp = Example.from_dict(pred, dict.fromkeys(annot))\n",
        "        example.append(temp)\n",
        "    scores = scorer.score(example)\n",
        "    return scores\n",
        "\n",
        "ner_model = cmed_ner_nckk\n",
        "results = evaluate(ner_model, examples)\n",
        "print(results)"
      ],
      "metadata": {
        "colab": {
          "base_uri": "https://localhost:8080/"
        },
        "id": "s5yWAJama_mA",
        "outputId": "a9388905-5781-4b1b-e647-0e02c19ce5f5"
      },
      "execution_count": null,
      "outputs": [
        {
          "output_type": "stream",
          "name": "stdout",
          "text": [
            "I have a fever ,back pain and other diarrhea, Should I take medicine, tylonol? paracetamol or metformin? {(9, 14, 'SYMPTOM'), (16, 25, 'SYMPTOM'), (79, 90, 'DRUG', (94, 103, 'DRUG'))}\n",
            " I am taking medicine, propanolol, rifampicin and quinolone.DO I have malaria or TB? {(34, 44, 'DRUG'), (80, 82, 'DISEASE'), (22, 32, 'DRUG'), (49, 58, 'DRUG'), (59, 76, 'DISEASE')}\n",
            "{'token_acc': 1.0, 'token_p': 1.0, 'token_r': 1.0, 'token_f': 1.0, 'sents_p': None, 'sents_r': None, 'sents_f': None, 'tag_acc': None, 'pos_acc': None, 'morph_acc': None, 'morph_micro_p': None, 'morph_micro_r': None, 'morph_micro_f': None, 'morph_per_feat': None, 'dep_uas': None, 'dep_las': None, 'dep_las_per_type': None, 'ents_p': None, 'ents_r': None, 'ents_f': None, 'ents_per_type': None, 'cats_score': 0.0, 'cats_score_desc': 'macro F', 'cats_micro_p': 0.0, 'cats_micro_r': 0.0, 'cats_micro_f': 0.0, 'cats_macro_p': 0.0, 'cats_macro_r': 0.0, 'cats_macro_f': 0.0, 'cats_macro_auc': 0.0, 'cats_f_per_type': {}, 'cats_auc_per_type': {}}\n"
          ]
        }
      ]
    },
    {
      "cell_type": "code",
      "source": [
        "from google.colab import drive\n",
        "drive.mount('/content/drive')"
      ],
      "metadata": {
        "id": "TA2Fw5huQtoE",
        "outputId": "40a6d40c-475a-4f33-fe3f-1d651f0573cc",
        "colab": {
          "base_uri": "https://localhost:8080/"
        }
      },
      "execution_count": null,
      "outputs": [
        {
          "output_type": "stream",
          "name": "stdout",
          "text": [
            "Mounted at /content/drive\n"
          ]
        }
      ]
    },
    {
      "cell_type": "code",
      "source": [
        "nlp_ner.component_names\n",
        "nlp_ner.get_pipe('ner').labels"
      ],
      "metadata": {
        "colab": {
          "base_uri": "https://localhost:8080/"
        },
        "id": "yk4W0TmxhVU1",
        "outputId": "6651a5cd-aefa-4951-925d-218fd2650c0c"
      },
      "execution_count": null,
      "outputs": [
        {
          "output_type": "execute_result",
          "data": {
            "text/plain": [
              "('MEDICALCONDITION', 'MEDICINE', 'PATHOGEN')"
            ]
          },
          "metadata": {},
          "execution_count": 28
        }
      ]
    },
    {
      "cell_type": "code",
      "source": [
        "df = pd.read_csv('mtsamples.csv', index_col=0)\n",
        "df.head()"
      ],
      "metadata": {
        "id": "WlTzvHtanjtD"
      },
      "execution_count": null,
      "outputs": []
    },
    {
      "cell_type": "code",
      "source": [
        "x = str(df.iloc[6]['transcription'])\n",
        "\n",
        "docx = nlp_ner(x)\n",
        "\n",
        "#  print(ent.text,\" : \",ent.label_)\n",
        "colors = {\"PATHOGEN\": \"#F67DE3\", \"MEDICINE\": \"#7DF6D9\", \"MEDICALCONDITION\":\"#FFFFFF\"}\n",
        "options = {\"colors\": colors}\n",
        "\n",
        "spacy.displacy.render(docx, style=\"ent\", options= options, jupyter=True)\n",
        "results = [ent.text for ent in docx.ents if ent.label_ == 'MEDICALCONDITION' ]\n",
        "results"
      ],
      "metadata": {
        "colab": {
          "base_uri": "https://localhost:8080/",
          "height": 1000
        },
        "id": "Igcygqs5hga-",
        "outputId": "d82bc9db-101b-4d31-cc3a-222540a26bfd"
      },
      "execution_count": null,
      "outputs": [
        {
          "output_type": "display_data",
          "data": {
            "text/plain": [
              "<IPython.core.display.HTML object>"
            ],
            "text/html": [
              "<span class=\"tex2jax_ignore\"><div class=\"entities\" style=\"line-height: 2.5; direction: ltr\">PREOPERATIVE DIAGNOSES:,1.  Deformity, right breast reconstruction.,2.  Excess soft tissue, anterior abdomen and flank.,3.  Lipodystrophy of the abdomen.,POSTOPERATIVE DIAGNOSES:,1.  Deformity, right breast reconstruction.,2.  Excess soft tissue, anterior abdomen and flank.,3.  \n",
              "<mark class=\"entity\" style=\"background: #FFFFFF; padding: 0.45em 0.6em; margin: 0 0.25em; line-height: 1; border-radius: 0.35em;\">\n",
              "    Lipodystrophy\n",
              "    <span style=\"font-size: 0.8em; font-weight: bold; line-height: 1; border-radius: 0.35em; vertical-align: middle; margin-left: 0.5rem\">MEDICALCONDITION</span>\n",
              "</mark>\n",
              " of the abdomen.,PROCEDURES:,1.  Revision, right breast reconstruction.,2.  Excision, soft tissue fullness of the lateral abdomen and flank.,3.  \n",
              "<mark class=\"entity\" style=\"background: #FFFFFF; padding: 0.45em 0.6em; margin: 0 0.25em; line-height: 1; border-radius: 0.35em;\">\n",
              "    Liposuction\n",
              "    <span style=\"font-size: 0.8em; font-weight: bold; line-height: 1; border-radius: 0.35em; vertical-align: middle; margin-left: 0.5rem\">MEDICALCONDITION</span>\n",
              "</mark>\n",
              " of the supraumbilical abdomen.,ANESTHESIA: , General.,INDICATION FOR OPERATION:,  The patient is a 31-year-old white female who previously has undergone latissimus dorsi flap and implant, breast reconstruction.  She now had lateralization of the implant with loss of medial fullness for which she desired correction.  It was felt that mobilization of the implant medially would provide the patient significant improvement and this was discussed with the patient at length.  The patient also had a small dog \n",
              "<mark class=\"entity\" style=\"background: #FFFFFF; padding: 0.45em 0.6em; margin: 0 0.25em; line-height: 1; border-radius: 0.35em;\">\n",
              "    ear\n",
              "    <span style=\"font-size: 0.8em; font-weight: bold; line-height: 1; border-radius: 0.35em; vertical-align: middle; margin-left: 0.5rem\">MEDICALCONDITION</span>\n",
              "</mark>\n",
              " in the flank area on the right from the latissimus flap harvest, which was to be corrected.  She had also had liposuction of the periumbilical and infraumbilical abdomen with desire to have great improvement superiorly, was felt to be a candidate for such.  The above-noted procedure was discussed with the patient in detail.  The risks, benefits and potential complications were discussed.  She was marked in the upright position and then taken to the operating room for the above-noted procedure.,OPERATIVE PROCEDURE: , The patient was taken to the operating room and placed in the supine position.  Following adequate induction of general \n",
              "<mark class=\"entity\" style=\"background: #7DF6D9; padding: 0.45em 0.6em; margin: 0 0.25em; line-height: 1; border-radius: 0.35em;\">\n",
              "    LMA anesthesia\n",
              "    <span style=\"font-size: 0.8em; font-weight: bold; line-height: 1; border-radius: 0.35em; vertical-align: middle; margin-left: 0.5rem\">MEDICINE</span>\n",
              "</mark>\n",
              ", the chest and abdomen was prepped and draped in the usual sterile fashion.  The supraumbilical abdomen was then injected with a solution of 5% \n",
              "<mark class=\"entity\" style=\"background: #7DF6D9; padding: 0.45em 0.6em; margin: 0 0.25em; line-height: 1; border-radius: 0.35em;\">\n",
              "    lidocaine\n",
              "    <span style=\"font-size: 0.8em; font-weight: bold; line-height: 1; border-radius: 0.35em; vertical-align: middle; margin-left: 0.5rem\">MEDICINE</span>\n",
              "</mark>\n",
              " with epinephrine, as was the dog ear.  At this time, the superior central scar was then excised, dissection continued through the subcutaneous tissue, the underlying latissimus muscle until the capsule of the implant was reached.  This was then opened.  The implant was removed and placed on the back table in antibiotic solution.  Using \n",
              "<mark class=\"entity\" style=\"background: #7DF6D9; padding: 0.45em 0.6em; margin: 0 0.25em; line-height: 1; border-radius: 0.35em;\">\n",
              "    Bovie cautery\n",
              "    <span style=\"font-size: 0.8em; font-weight: bold; line-height: 1; border-radius: 0.35em; vertical-align: middle; margin-left: 0.5rem\">MEDICINE</span>\n",
              "</mark>\n",
              ", the medial capsule was released and undermining was then performed with release of the muscle to the level of the proposed medial projection of the breast.  The inframammary fold medially was secured with 2-0 PDS suture to create greater takeoff point at this level which in the upright position and using a sizer produced a good form.  The lateral pocket was diminished by series of 2-0 PDS suture to provide medialization of the implant.  The implant was then placed back into the submuscular pocket with much improved positioning and medial fullness.  With this completed, the implant was again removed, \n",
              "<mark class=\"entity\" style=\"background: #7DF6D9; padding: 0.45em 0.6em; margin: 0 0.25em; line-height: 1; border-radius: 0.35em;\">\n",
              "    antibiotic irrigation\n",
              "    <span style=\"font-size: 0.8em; font-weight: bold; line-height: 1; border-radius: 0.35em; vertical-align: middle; margin-left: 0.5rem\">MEDICINE</span>\n",
              "</mark>\n",
              " was performed.  A drain was placed and brought out through a separate inferior stab wound incision and hemostasis was confirmed.  The implant was then replaced and the wound was then closed in layers using \n",
              "<mark class=\"entity\" style=\"background: #7DF6D9; padding: 0.45em 0.6em; margin: 0 0.25em; line-height: 1; border-radius: 0.35em;\">\n",
              "    2-0\n",
              "    <span style=\"font-size: 0.8em; font-weight: bold; line-height: 1; border-radius: 0.35em; vertical-align: middle; margin-left: 0.5rem\">MEDICINE</span>\n",
              "</mark>\n",
              " \n",
              "<mark class=\"entity\" style=\"background: #7DF6D9; padding: 0.45em 0.6em; margin: 0 0.25em; line-height: 1; border-radius: 0.35em;\">\n",
              "    PDS running\n",
              "    <span style=\"font-size: 0.8em; font-weight: bold; line-height: 1; border-radius: 0.35em; vertical-align: middle; margin-left: 0.5rem\">MEDICINE</span>\n",
              "</mark>\n",
              " suture on the muscle and 3-0 \n",
              "<mark class=\"entity\" style=\"background: #7DF6D9; padding: 0.45em 0.6em; margin: 0 0.25em; line-height: 1; border-radius: 0.35em;\">\n",
              "    Monocryl Dermabond\n",
              "    <span style=\"font-size: 0.8em; font-weight: bold; line-height: 1; border-radius: 0.35em; vertical-align: middle; margin-left: 0.5rem\">MEDICINE</span>\n",
              "</mark>\n",
              " subcuticular sutures.  The 2.5 cm dog ear was then excised into and including the subcutaneous tissue, even contouring was achieved and this was closed with two layers using 3-0 Monocryl suture.  Using a #3 cannula, a superior umbilical incision, liposuction was carried out into the supraumbilical abdomen, removing approximately 40 to 50 mL of fat with improved supraumbilical contours.  This was closed with 6-0 \n",
              "<mark class=\"entity\" style=\"background: #7DF6D9; padding: 0.45em 0.6em; margin: 0 0.25em; line-height: 1; border-radius: 0.35em;\">\n",
              "    Prolene suture\n",
              "    <span style=\"font-size: 0.8em; font-weight: bold; line-height: 1; border-radius: 0.35em; vertical-align: middle; margin-left: 0.5rem\">MEDICINE</span>\n",
              "</mark>\n",
              ".  The patient was placed in a compressive garment after treating the incision with \n",
              "<mark class=\"entity\" style=\"background: #7DF6D9; padding: 0.45em 0.6em; margin: 0 0.25em; line-height: 1; border-radius: 0.35em;\">\n",
              "    Dermabond\n",
              "    <span style=\"font-size: 0.8em; font-weight: bold; line-height: 1; border-radius: 0.35em; vertical-align: middle; margin-left: 0.5rem\">MEDICINE</span>\n",
              "</mark>\n",
              ", \n",
              "<mark class=\"entity\" style=\"background: #7DF6D9; padding: 0.45em 0.6em; margin: 0 0.25em; line-height: 1; border-radius: 0.35em;\">\n",
              "    Steri-Strips\n",
              "    <span style=\"font-size: 0.8em; font-weight: bold; line-height: 1; border-radius: 0.35em; vertical-align: middle; margin-left: 0.5rem\">MEDICINE</span>\n",
              "</mark>\n",
              " and \n",
              "<mark class=\"entity\" style=\"background: #7DF6D9; padding: 0.45em 0.6em; margin: 0 0.25em; line-height: 1; border-radius: 0.35em;\">\n",
              "    antibiotic ointment\n",
              "    <span style=\"font-size: 0.8em; font-weight: bold; line-height: 1; border-radius: 0.35em; vertical-align: middle; margin-left: 0.5rem\">MEDICINE</span>\n",
              "</mark>\n",
              " around the drain site and umbilicus.  A \n",
              "<mark class=\"entity\" style=\"background: #7DF6D9; padding: 0.45em 0.6em; margin: 0 0.25em; line-height: 1; border-radius: 0.35em;\">\n",
              "    Kerlix dressing\n",
              "    <span style=\"font-size: 0.8em; font-weight: bold; line-height: 1; border-radius: 0.35em; vertical-align: middle; margin-left: 0.5rem\">MEDICINE</span>\n",
              "</mark>\n",
              " and a \n",
              "<mark class=\"entity\" style=\"background: #7DF6D9; padding: 0.45em 0.6em; margin: 0 0.25em; line-height: 1; border-radius: 0.35em;\">\n",
              "    surgical bra\n",
              "    <span style=\"font-size: 0.8em; font-weight: bold; line-height: 1; border-radius: 0.35em; vertical-align: middle; margin-left: 0.5rem\">MEDICINE</span>\n",
              "</mark>\n",
              " was placed to the chest area.  A compressive garment was placed.  The patient was then aroused from anesthesia, extubated, and taken to the recovery room in stable condition.  Sponge, needle, lap, instrument counts were all correct.  The patient tolerated the procedure well.  There were no complications.  The estimated blood loss was approximately 25 mL.</div></span>"
            ]
          },
          "metadata": {}
        },
        {
          "output_type": "execute_result",
          "data": {
            "text/plain": [
              "['Lipodystrophy', 'Liposuction', 'ear']"
            ]
          },
          "metadata": {},
          "execution_count": 49
        }
      ]
    },
    {
      "cell_type": "markdown",
      "source": [
        "#LAters\n"
      ],
      "metadata": {
        "id": "sqNt1uZfPIr9"
      }
    },
    {
      "cell_type": "code",
      "source": [
        "import pandas as pd"
      ],
      "metadata": {
        "id": "d6XQjstjCCe2"
      },
      "execution_count": null,
      "outputs": []
    },
    {
      "cell_type": "code",
      "execution_count": null,
      "metadata": {
        "id": "6Xcmz_JxB1hp"
      },
      "outputs": [],
      "source": [
        "raw_df = pd.read_csv('mtsamples.csv', index_col=0)\n",
        "raw_df.head()"
      ]
    }
  ]
}